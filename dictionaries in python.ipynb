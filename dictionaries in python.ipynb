{
 "cells": [
  {
   "cell_type": "markdown",
   "id": "dd8d98c0",
   "metadata": {},
   "source": [
    "dictionaries in python :\n",
    "\n",
    "{'key1':'value1', 'key2':'value2'}\n",
    "\n",
    "\n",
    "Dictionaries :objects retrieved by a key name. unordered and cant be sorted AND cant be indexed and sliced.\n",
    "\n",
    "Lists : objects retrieved by a location. ordered sequence and can be indexed and sliced.\n",
    "\n",
    "anything can be added to dictionaries ie strings, lists, int, floats..\n",
    "\n",
    "keys should be strings always"
   ]
  },
  {
   "cell_type": "code",
   "execution_count": 1,
   "id": "36492a37",
   "metadata": {},
   "outputs": [],
   "source": [
    "myd = {'key1':'value1', 'key2':'value2'}"
   ]
  },
  {
   "cell_type": "code",
   "execution_count": 2,
   "id": "6ac3bdc7",
   "metadata": {},
   "outputs": [
    {
     "data": {
      "text/plain": [
       "{'key1': 'value1', 'key2': 'value2'}"
      ]
     },
     "execution_count": 2,
     "metadata": {},
     "output_type": "execute_result"
    }
   ],
   "source": [
    "myd"
   ]
  },
  {
   "cell_type": "code",
   "execution_count": 4,
   "id": "93f459e7",
   "metadata": {},
   "outputs": [
    {
     "data": {
      "text/plain": [
       "'value2'"
      ]
     },
     "execution_count": 4,
     "metadata": {},
     "output_type": "execute_result"
    }
   ],
   "source": [
    "myd['key2']"
   ]
  },
  {
   "cell_type": "code",
   "execution_count": 8,
   "id": "3625e496",
   "metadata": {},
   "outputs": [],
   "source": [
    "prices = {'apple':200, 'orange':100, 'banana':25, 'mango':50.5}"
   ]
  },
  {
   "cell_type": "code",
   "execution_count": 6,
   "id": "f2368efc",
   "metadata": {},
   "outputs": [
    {
     "data": {
      "text/plain": [
       "200"
      ]
     },
     "execution_count": 6,
     "metadata": {},
     "output_type": "execute_result"
    }
   ],
   "source": [
    "prices['apple']"
   ]
  },
  {
   "cell_type": "code",
   "execution_count": 9,
   "id": "07bcac98",
   "metadata": {},
   "outputs": [
    {
     "data": {
      "text/plain": [
       "50.5"
      ]
     },
     "execution_count": 9,
     "metadata": {},
     "output_type": "execute_result"
    }
   ],
   "source": [
    "prices['mango']"
   ]
  },
  {
   "cell_type": "code",
   "execution_count": 10,
   "id": "85cbec4f",
   "metadata": {},
   "outputs": [],
   "source": [
    "d={'k1':123, 'k2':[0,1,2], 'k3':{'k4':100}}"
   ]
  },
  {
   "cell_type": "code",
   "execution_count": 11,
   "id": "ed78bed7",
   "metadata": {},
   "outputs": [
    {
     "data": {
      "text/plain": [
       "123"
      ]
     },
     "execution_count": 11,
     "metadata": {},
     "output_type": "execute_result"
    }
   ],
   "source": [
    "d['k1']"
   ]
  },
  {
   "cell_type": "code",
   "execution_count": 12,
   "id": "a813c19d",
   "metadata": {},
   "outputs": [
    {
     "data": {
      "text/plain": [
       "[0, 1, 2]"
      ]
     },
     "execution_count": 12,
     "metadata": {},
     "output_type": "execute_result"
    }
   ],
   "source": [
    "d['k2']"
   ]
  },
  {
   "cell_type": "code",
   "execution_count": 13,
   "id": "484e8744",
   "metadata": {},
   "outputs": [
    {
     "data": {
      "text/plain": [
       "2"
      ]
     },
     "execution_count": 13,
     "metadata": {},
     "output_type": "execute_result"
    }
   ],
   "source": [
    "d['k2'][2]"
   ]
  },
  {
   "cell_type": "code",
   "execution_count": 15,
   "id": "003ca943",
   "metadata": {},
   "outputs": [
    {
     "data": {
      "text/plain": [
       "{'k4': 100}"
      ]
     },
     "execution_count": 15,
     "metadata": {},
     "output_type": "execute_result"
    }
   ],
   "source": [
    "d['k3']"
   ]
  },
  {
   "cell_type": "code",
   "execution_count": 16,
   "id": "6c2ec1f9",
   "metadata": {},
   "outputs": [
    {
     "data": {
      "text/plain": [
       "100"
      ]
     },
     "execution_count": 16,
     "metadata": {},
     "output_type": "execute_result"
    }
   ],
   "source": [
    "d['k3']['k4']"
   ]
  },
  {
   "cell_type": "code",
   "execution_count": 17,
   "id": "11f6e9a0",
   "metadata": {},
   "outputs": [],
   "source": [
    "d = {'k1':['a','b','c','e']}"
   ]
  },
  {
   "cell_type": "code",
   "execution_count": 19,
   "id": "8d00e504",
   "metadata": {},
   "outputs": [
    {
     "data": {
      "text/plain": [
       "'E'"
      ]
     },
     "execution_count": 19,
     "metadata": {},
     "output_type": "execute_result"
    }
   ],
   "source": [
    "d['k1'][3].upper()"
   ]
  },
  {
   "cell_type": "code",
   "execution_count": 20,
   "id": "dd8e97ff",
   "metadata": {},
   "outputs": [],
   "source": [
    "mylist = d['k1']"
   ]
  },
  {
   "cell_type": "code",
   "execution_count": 21,
   "id": "af50b055",
   "metadata": {},
   "outputs": [
    {
     "data": {
      "text/plain": [
       "['a', 'b', 'c', 'e']"
      ]
     },
     "execution_count": 21,
     "metadata": {},
     "output_type": "execute_result"
    }
   ],
   "source": [
    "mylist"
   ]
  },
  {
   "cell_type": "code",
   "execution_count": 22,
   "id": "9dfc14c0",
   "metadata": {},
   "outputs": [],
   "source": [
    "letter = mylist[3]"
   ]
  },
  {
   "cell_type": "code",
   "execution_count": 23,
   "id": "2a79dd4c",
   "metadata": {},
   "outputs": [
    {
     "data": {
      "text/plain": [
       "'e'"
      ]
     },
     "execution_count": 23,
     "metadata": {},
     "output_type": "execute_result"
    }
   ],
   "source": [
    "letter"
   ]
  },
  {
   "cell_type": "code",
   "execution_count": 24,
   "id": "0e7912df",
   "metadata": {},
   "outputs": [
    {
     "data": {
      "text/plain": [
       "'E'"
      ]
     },
     "execution_count": 24,
     "metadata": {},
     "output_type": "execute_result"
    }
   ],
   "source": [
    "letter.upper()"
   ]
  },
  {
   "cell_type": "code",
   "execution_count": 25,
   "id": "cff257f3",
   "metadata": {},
   "outputs": [],
   "source": [
    "d = {'k1':100, 'k2':200}"
   ]
  },
  {
   "cell_type": "code",
   "execution_count": 26,
   "id": "d33d3fa0",
   "metadata": {},
   "outputs": [],
   "source": [
    "d['k3'] = 300"
   ]
  },
  {
   "cell_type": "code",
   "execution_count": 27,
   "id": "7298fed8",
   "metadata": {},
   "outputs": [
    {
     "data": {
      "text/plain": [
       "{'k1': 100, 'k2': 200, 'k3': 300}"
      ]
     },
     "execution_count": 27,
     "metadata": {},
     "output_type": "execute_result"
    }
   ],
   "source": [
    "d"
   ]
  },
  {
   "cell_type": "code",
   "execution_count": 28,
   "id": "777e30c1",
   "metadata": {},
   "outputs": [],
   "source": [
    "d['k1'] = 50"
   ]
  },
  {
   "cell_type": "code",
   "execution_count": 29,
   "id": "bac05018",
   "metadata": {},
   "outputs": [
    {
     "data": {
      "text/plain": [
       "{'k1': 50, 'k2': 200, 'k3': 300}"
      ]
     },
     "execution_count": 29,
     "metadata": {},
     "output_type": "execute_result"
    }
   ],
   "source": [
    "d"
   ]
  },
  {
   "cell_type": "code",
   "execution_count": 30,
   "id": "f98d7814",
   "metadata": {},
   "outputs": [],
   "source": [
    "d = {'k1':100, 'k2':200}"
   ]
  },
  {
   "cell_type": "code",
   "execution_count": 31,
   "id": "fe6dd39c",
   "metadata": {},
   "outputs": [
    {
     "data": {
      "text/plain": [
       "dict_keys(['k1', 'k2'])"
      ]
     },
     "execution_count": 31,
     "metadata": {},
     "output_type": "execute_result"
    }
   ],
   "source": [
    "d.keys()"
   ]
  },
  {
   "cell_type": "code",
   "execution_count": 32,
   "id": "29be0a3a",
   "metadata": {},
   "outputs": [
    {
     "data": {
      "text/plain": [
       "dict_values([100, 200])"
      ]
     },
     "execution_count": 32,
     "metadata": {},
     "output_type": "execute_result"
    }
   ],
   "source": [
    "d.values()"
   ]
  },
  {
   "cell_type": "code",
   "execution_count": 33,
   "id": "efafa502",
   "metadata": {},
   "outputs": [
    {
     "data": {
      "text/plain": [
       "dict_items([('k1', 100), ('k2', 200)])"
      ]
     },
     "execution_count": 33,
     "metadata": {},
     "output_type": "execute_result"
    }
   ],
   "source": [
    "d.items()"
   ]
  },
  {
   "cell_type": "code",
   "execution_count": null,
   "id": "d26a304c",
   "metadata": {},
   "outputs": [],
   "source": []
  }
 ],
 "metadata": {
  "kernelspec": {
   "display_name": "Python 3 (ipykernel)",
   "language": "python",
   "name": "python3"
  },
  "language_info": {
   "codemirror_mode": {
    "name": "ipython",
    "version": 3
   },
   "file_extension": ".py",
   "mimetype": "text/x-python",
   "name": "python",
   "nbconvert_exporter": "python",
   "pygments_lexer": "ipython3",
   "version": "3.9.7"
  }
 },
 "nbformat": 4,
 "nbformat_minor": 5
}
