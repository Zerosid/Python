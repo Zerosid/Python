{
 "cells": [
  {
   "cell_type": "markdown",
   "id": "0c2b5542",
   "metadata": {},
   "source": [
    "print formatting with strings"
   ]
  },
  {
   "cell_type": "code",
   "execution_count": 3,
   "id": "d0ecd650",
   "metadata": {},
   "outputs": [],
   "source": [
    "myname = \" Sidram\""
   ]
  },
  {
   "cell_type": "code",
   "execution_count": 4,
   "id": "102afdf6",
   "metadata": {},
   "outputs": [
    {
     "name": "stdout",
     "output_type": "stream",
     "text": [
      "Hello Sidram\n"
     ]
    }
   ],
   "source": [
    "print(\"Hello\" + myname)"
   ]
  },
  {
   "cell_type": "code",
   "execution_count": 6,
   "id": "a45c3695",
   "metadata": {},
   "outputs": [
    {
     "name": "stdout",
     "output_type": "stream",
     "text": [
      "he is a boy\n"
     ]
    }
   ],
   "source": [
    " print('he is a {}'.format('boy'))"
   ]
  },
  {
   "cell_type": "code",
   "execution_count": 8,
   "id": "ae6b3b1c",
   "metadata": {},
   "outputs": [
    {
     "name": "stdout",
     "output_type": "stream",
     "text": [
      "The fox brown quick\n"
     ]
    }
   ],
   "source": [
    "print('The {} {} {}'.format('fox','brown', 'quick'))"
   ]
  },
  {
   "cell_type": "code",
   "execution_count": 9,
   "id": "18727775",
   "metadata": {},
   "outputs": [
    {
     "name": "stdout",
     "output_type": "stream",
     "text": [
      "The quick brown fox\n"
     ]
    }
   ],
   "source": [
    "print('The {2} {1} {0}'.format('fox','brown', 'quick'))"
   ]
  },
  {
   "cell_type": "code",
   "execution_count": 10,
   "id": "54d8f3a5",
   "metadata": {},
   "outputs": [
    {
     "name": "stdout",
     "output_type": "stream",
     "text": [
      "The fox fox fox\n"
     ]
    }
   ],
   "source": [
    "print('The {0} {0} {0}'.format('fox','brown', 'quick'))"
   ]
  },
  {
   "cell_type": "code",
   "execution_count": 11,
   "id": "5db830f1",
   "metadata": {},
   "outputs": [
    {
     "name": "stdout",
     "output_type": "stream",
     "text": [
      "The quick brown fox\n"
     ]
    }
   ],
   "source": [
    "print('The {q} {b} {f}'.format(f= 'fox', b= 'brown', q= 'quick'))"
   ]
  },
  {
   "cell_type": "code",
   "execution_count": 14,
   "id": "6307a71e",
   "metadata": {},
   "outputs": [
    {
     "name": "stdout",
     "output_type": "stream",
     "text": [
      "India is a beautiful country\n"
     ]
    }
   ],
   "source": [
    "print ('India {} {} {} {}'.format('is','a','beautiful','country'))"
   ]
  },
  {
   "cell_type": "code",
   "execution_count": 17,
   "id": "46f2caaa",
   "metadata": {},
   "outputs": [
    {
     "name": "stdout",
     "output_type": "stream",
     "text": [
      "we, kiran mahesh pavan and sid are friends.\n"
     ]
    }
   ],
   "source": [
    "print('we, {k} {m} {p} and {s} are friends.'.format(k = 'kiran', m = 'mahesh', p = 'pavan', s = 'sid'))"
   ]
  },
  {
   "cell_type": "markdown",
   "id": "47583d67",
   "metadata": {},
   "source": [
    "float formatting"
   ]
  },
  {
   "cell_type": "code",
   "execution_count": 18,
   "id": "fc812521",
   "metadata": {},
   "outputs": [],
   "source": [
    "answer = 100/22"
   ]
  },
  {
   "cell_type": "code",
   "execution_count": 19,
   "id": "cf27f8a6",
   "metadata": {},
   "outputs": [
    {
     "data": {
      "text/plain": [
       "4.545454545454546"
      ]
     },
     "execution_count": 19,
     "metadata": {},
     "output_type": "execute_result"
    }
   ],
   "source": [
    "answer"
   ]
  },
  {
   "cell_type": "code",
   "execution_count": 26,
   "id": "da81addf",
   "metadata": {},
   "outputs": [
    {
     "name": "stdout",
     "output_type": "stream",
     "text": [
      "the result = 4.545454545454546\n"
     ]
    }
   ],
   "source": [
    "print('the result = {r}'.format(r=answer))"
   ]
  },
  {
   "cell_type": "code",
   "execution_count": 27,
   "id": "0906e847",
   "metadata": {},
   "outputs": [
    {
     "name": "stdout",
     "output_type": "stream",
     "text": [
      "the result = 4.545\n"
     ]
    }
   ],
   "source": [
    "print('the result = {r:1.3f}'.format(r=answer))"
   ]
  },
  {
   "cell_type": "code",
   "execution_count": 28,
   "id": "ccfcb99e",
   "metadata": {},
   "outputs": [
    {
     "name": "stdout",
     "output_type": "stream",
     "text": [
      "the result =      4.545\n"
     ]
    }
   ],
   "source": [
    "print('the result = {r:10.3f}'.format(r=answer))"
   ]
  },
  {
   "cell_type": "code",
   "execution_count": 32,
   "id": "f8361728",
   "metadata": {},
   "outputs": [
    {
     "name": "stdout",
     "output_type": "stream",
     "text": [
      "the result =    4.54545\n"
     ]
    }
   ],
   "source": [
    "print('the result = {r:10.5f}'.format(r=answer))"
   ]
  },
  {
   "cell_type": "code",
   "execution_count": 33,
   "id": "df2bbd2e",
   "metadata": {},
   "outputs": [],
   "source": [
    "x = 100"
   ]
  },
  {
   "cell_type": "code",
   "execution_count": 34,
   "id": "445595d2",
   "metadata": {},
   "outputs": [],
   "source": [
    "y = 17"
   ]
  },
  {
   "cell_type": "code",
   "execution_count": 35,
   "id": "fa8bf4f7",
   "metadata": {},
   "outputs": [],
   "source": [
    "result = x/y"
   ]
  },
  {
   "cell_type": "code",
   "execution_count": 36,
   "id": "9fce0ed4",
   "metadata": {},
   "outputs": [
    {
     "data": {
      "text/plain": [
       "5.882352941176471"
      ]
     },
     "execution_count": 36,
     "metadata": {},
     "output_type": "execute_result"
    }
   ],
   "source": [
    "result"
   ]
  },
  {
   "cell_type": "code",
   "execution_count": 37,
   "id": "68eb64ff",
   "metadata": {
    "scrolled": true
   },
   "outputs": [
    {
     "name": "stdout",
     "output_type": "stream",
     "text": [
      "the result was 5.882352941176471\n"
     ]
    }
   ],
   "source": [
    "print('the result was {r}'.format(r=result))"
   ]
  },
  {
   "cell_type": "code",
   "execution_count": 41,
   "id": "dadcaa6c",
   "metadata": {},
   "outputs": [
    {
     "name": "stdout",
     "output_type": "stream",
     "text": [
      "the result was 5.8824\n"
     ]
    }
   ],
   "source": [
    "print('the result was {r:1.4f}'.format(r=result))"
   ]
  },
  {
   "cell_type": "code",
   "execution_count": 42,
   "id": "ff413fa2",
   "metadata": {},
   "outputs": [
    {
     "name": "stdout",
     "output_type": "stream",
     "text": [
      "the result was   5.8824\n"
     ]
    }
   ],
   "source": [
    "print('the result was {r:8.4f}'.format(r=result))"
   ]
  },
  {
   "cell_type": "code",
   "execution_count": 43,
   "id": "14f851c0",
   "metadata": {},
   "outputs": [],
   "source": [
    "solution = 102.3456789"
   ]
  },
  {
   "cell_type": "code",
   "execution_count": 44,
   "id": "8b266e47",
   "metadata": {},
   "outputs": [
    {
     "name": "stdout",
     "output_type": "stream",
     "text": [
      "the solution = 102.3456789\n"
     ]
    }
   ],
   "source": [
    "print('the solution = {s}'.format(s=solution))"
   ]
  },
  {
   "cell_type": "code",
   "execution_count": 45,
   "id": "50e54aa8",
   "metadata": {},
   "outputs": [
    {
     "name": "stdout",
     "output_type": "stream",
     "text": [
      "the solution = 102.3457\n"
     ]
    }
   ],
   "source": [
    "print('the solution = {s:1.4f}'.format(s=solution))"
   ]
  },
  {
   "cell_type": "markdown",
   "id": "42f194ea",
   "metadata": {},
   "source": [
    "fstrings"
   ]
  },
  {
   "cell_type": "code",
   "execution_count": 46,
   "id": "8180c189",
   "metadata": {},
   "outputs": [],
   "source": [
    "name = \"Sidram\""
   ]
  },
  {
   "cell_type": "code",
   "execution_count": 48,
   "id": "008ccf8f",
   "metadata": {},
   "outputs": [
    {
     "name": "stdout",
     "output_type": "stream",
     "text": [
      "he is Sidram\n"
     ]
    }
   ],
   "source": [
    "print('he is {}'.format(name))"
   ]
  },
  {
   "cell_type": "code",
   "execution_count": 49,
   "id": "1487bceb",
   "metadata": {},
   "outputs": [
    {
     "name": "stdout",
     "output_type": "stream",
     "text": [
      "he is Sidram\n"
     ]
    }
   ],
   "source": [
    "print(f'he is {name}')"
   ]
  },
  {
   "cell_type": "code",
   "execution_count": 50,
   "id": "7810a19d",
   "metadata": {},
   "outputs": [],
   "source": [
    "name = 'Ram'\n",
    "age = 30"
   ]
  },
  {
   "cell_type": "code",
   "execution_count": 51,
   "id": "cfd9466d",
   "metadata": {},
   "outputs": [
    {
     "name": "stdout",
     "output_type": "stream",
     "text": [
      "Ram is 30 years old.\n"
     ]
    }
   ],
   "source": [
    "print(f'{name} is {age} years old.')"
   ]
  },
  {
   "cell_type": "code",
   "execution_count": 55,
   "id": "acb562fd",
   "metadata": {},
   "outputs": [
    {
     "name": "stdout",
     "output_type": "stream",
     "text": [
      "we, kiran and sid are friends.\n"
     ]
    }
   ],
   "source": [
    "print(f\"we, {'kiran'} and {'sid'} are friends.\")"
   ]
  },
  {
   "cell_type": "code",
   "execution_count": 56,
   "id": "cacea05f",
   "metadata": {},
   "outputs": [
    {
     "name": "stdout",
     "output_type": "stream",
     "text": [
      "whatever you were going to print\n"
     ]
    }
   ],
   "source": [
    "print('whatever you were going to print')"
   ]
  },
  {
   "cell_type": "code",
   "execution_count": 59,
   "id": "e6249a5d",
   "metadata": {},
   "outputs": [],
   "source": [
    "p='insert'"
   ]
  },
  {
   "cell_type": "code",
   "execution_count": 62,
   "id": "3e20968b",
   "metadata": {},
   "outputs": [
    {
     "name": "stdout",
     "output_type": "stream",
     "text": [
      "this is a string with an insert\n"
     ]
    }
   ],
   "source": [
    "print('this is a string with an {p}'.format(p='insert'))"
   ]
  },
  {
   "cell_type": "code",
   "execution_count": 64,
   "id": "a36b375e",
   "metadata": {},
   "outputs": [
    {
     "data": {
      "text/plain": [
       "'two one'"
      ]
     },
     "execution_count": 64,
     "metadata": {},
     "output_type": "execute_result"
    }
   ],
   "source": [
    "'{1} {0}'.format('one','two')"
   ]
  },
  {
   "cell_type": "code",
   "execution_count": 65,
   "id": "cfd15509",
   "metadata": {},
   "outputs": [
    {
     "data": {
      "text/plain": [
       "'Python rules!'"
      ]
     },
     "execution_count": 65,
     "metadata": {},
     "output_type": "execute_result"
    }
   ],
   "source": [
    "'Python {}'. format('rules!')"
   ]
  },
  {
   "cell_type": "code",
   "execution_count": 71,
   "id": "56e9c4a2",
   "metadata": {},
   "outputs": [
    {
     "data": {
      "text/plain": [
       "'python rules!'"
      ]
     },
     "execution_count": 71,
     "metadata": {},
     "output_type": "execute_result"
    }
   ],
   "source": [
    "f\"python {'rules!'}\""
   ]
  },
  {
   "cell_type": "code",
   "execution_count": 72,
   "id": "f0b1439a",
   "metadata": {},
   "outputs": [
    {
     "name": "stdout",
     "output_type": "stream",
     "text": [
      "python rules!\n"
     ]
    }
   ],
   "source": [
    "print(f\"python {'rules!'}\")"
   ]
  },
  {
   "cell_type": "code",
   "execution_count": null,
   "id": "ba6978fb",
   "metadata": {},
   "outputs": [],
   "source": []
  }
 ],
 "metadata": {
  "kernelspec": {
   "display_name": "Python 3 (ipykernel)",
   "language": "python",
   "name": "python3"
  },
  "language_info": {
   "codemirror_mode": {
    "name": "ipython",
    "version": 3
   },
   "file_extension": ".py",
   "mimetype": "text/x-python",
   "name": "python",
   "nbconvert_exporter": "python",
   "pygments_lexer": "ipython3",
   "version": "3.9.7"
  }
 },
 "nbformat": 4,
 "nbformat_minor": 5
}
