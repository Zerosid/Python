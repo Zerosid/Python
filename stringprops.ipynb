{
 "cells": [
  {
   "cell_type": "markdown",
   "id": "4f5edba2",
   "metadata": {},
   "source": [
    "Strings are immutable"
   ]
  },
  {
   "cell_type": "code",
   "execution_count": 1,
   "id": "a52adb38",
   "metadata": {},
   "outputs": [],
   "source": [
    " firstname = 'Sid'"
   ]
  },
  {
   "cell_type": "code",
   "execution_count": 2,
   "id": "1e2224ac",
   "metadata": {},
   "outputs": [],
   "source": [
    "lastname = 'ram'"
   ]
  },
  {
   "cell_type": "code",
   "execution_count": 9,
   "id": "7819e7cb",
   "metadata": {},
   "outputs": [],
   "source": [
    "name = firstname + lastname"
   ]
  },
  {
   "cell_type": "code",
   "execution_count": 10,
   "id": "9ec5a794",
   "metadata": {},
   "outputs": [
    {
     "data": {
      "text/plain": [
       "'SidRam'"
      ]
     },
     "execution_count": 10,
     "metadata": {},
     "output_type": "execute_result"
    }
   ],
   "source": [
    "name"
   ]
  },
  {
   "cell_type": "code",
   "execution_count": 11,
   "id": "8eb07241",
   "metadata": {},
   "outputs": [],
   "source": [
    "name = \"Kam\""
   ]
  },
  {
   "cell_type": "code",
   "execution_count": 12,
   "id": "9ffbb678",
   "metadata": {},
   "outputs": [
    {
     "data": {
      "text/plain": [
       "'Kam'"
      ]
     },
     "execution_count": 12,
     "metadata": {},
     "output_type": "execute_result"
    }
   ],
   "source": [
    "name"
   ]
  },
  {
   "cell_type": "code",
   "execution_count": 14,
   "id": "2e8c4cc6",
   "metadata": {},
   "outputs": [],
   "source": [
    "# name[0] = \"S\""
   ]
  },
  {
   "cell_type": "code",
   "execution_count": 15,
   "id": "cbc7c6b5",
   "metadata": {},
   "outputs": [
    {
     "data": {
      "text/plain": [
       "'am'"
      ]
     },
     "execution_count": 15,
     "metadata": {},
     "output_type": "execute_result"
    }
   ],
   "source": [
    "name[1:]"
   ]
  },
  {
   "cell_type": "code",
   "execution_count": 16,
   "id": "c69cde24",
   "metadata": {},
   "outputs": [],
   "source": [
    "lastletters = name[1:]"
   ]
  },
  {
   "cell_type": "code",
   "execution_count": 17,
   "id": "2729ad64",
   "metadata": {},
   "outputs": [
    {
     "data": {
      "text/plain": [
       "'am'"
      ]
     },
     "execution_count": 17,
     "metadata": {},
     "output_type": "execute_result"
    }
   ],
   "source": [
    "lastletters"
   ]
  },
  {
   "cell_type": "code",
   "execution_count": 18,
   "id": "0d03b002",
   "metadata": {},
   "outputs": [
    {
     "data": {
      "text/plain": [
       "'Sam'"
      ]
     },
     "execution_count": 18,
     "metadata": {},
     "output_type": "execute_result"
    }
   ],
   "source": [
    "\"S\"+lastletters"
   ]
  },
  {
   "cell_type": "code",
   "execution_count": 19,
   "id": "5ac1b7f3",
   "metadata": {},
   "outputs": [],
   "source": [
    "x = \"hello Jaanu\""
   ]
  },
  {
   "cell_type": "code",
   "execution_count": 22,
   "id": "9b356071",
   "metadata": {},
   "outputs": [
    {
     "data": {
      "text/plain": [
       "'hello Jaanuyou are beautiful'"
      ]
     },
     "execution_count": 22,
     "metadata": {},
     "output_type": "execute_result"
    }
   ],
   "source": [
    "x + ' you are beautiful'"
   ]
  },
  {
   "cell_type": "code",
   "execution_count": 23,
   "id": "45f72ba4",
   "metadata": {},
   "outputs": [
    {
     "data": {
      "text/plain": [
       "'hello Jaanuyou are beautiful'"
      ]
     },
     "execution_count": 23,
     "metadata": {},
     "output_type": "execute_result"
    }
   ],
   "source": [
    "x + 'you are beautiful'"
   ]
  },
  {
   "cell_type": "code",
   "execution_count": 26,
   "id": "696c50a5",
   "metadata": {},
   "outputs": [],
   "source": [
    "x = x + ' you are beautiful'"
   ]
  },
  {
   "cell_type": "code",
   "execution_count": 27,
   "id": "aec203ad",
   "metadata": {},
   "outputs": [
    {
     "data": {
      "text/plain": [
       "'hello Jaanu you are beautiful you are beautiful'"
      ]
     },
     "execution_count": 27,
     "metadata": {},
     "output_type": "execute_result"
    }
   ],
   "source": [
    "x"
   ]
  },
  {
   "cell_type": "code",
   "execution_count": 31,
   "id": "39866d62",
   "metadata": {},
   "outputs": [],
   "source": [
    "x = x + 'hello Jaanu you are beautiful'"
   ]
  },
  {
   "cell_type": "code",
   "execution_count": 32,
   "id": "8faa874c",
   "metadata": {},
   "outputs": [
    {
     "data": {
      "text/plain": [
       "'hello Jaanu you are beautiful you are beautifulhello Jaanu you are beautifulhello Jaanu you are beautiful'"
      ]
     },
     "execution_count": 32,
     "metadata": {},
     "output_type": "execute_result"
    }
   ],
   "source": [
    "x"
   ]
  },
  {
   "cell_type": "code",
   "execution_count": 33,
   "id": "416c6a31",
   "metadata": {},
   "outputs": [],
   "source": [
    "letter = 's'"
   ]
  },
  {
   "cell_type": "raw",
   "id": "08b06be3",
   "metadata": {},
   "source": [
    "letter * 100"
   ]
  },
  {
   "cell_type": "code",
   "execution_count": 35,
   "id": "4777f12e",
   "metadata": {},
   "outputs": [
    {
     "data": {
      "text/plain": [
       "'s'"
      ]
     },
     "execution_count": 35,
     "metadata": {},
     "output_type": "execute_result"
    }
   ],
   "source": [
    "letter"
   ]
  },
  {
   "cell_type": "code",
   "execution_count": 36,
   "id": "7882d5a6",
   "metadata": {},
   "outputs": [
    {
     "data": {
      "text/plain": [
       "'ssssssssss'"
      ]
     },
     "execution_count": 36,
     "metadata": {},
     "output_type": "execute_result"
    }
   ],
   "source": [
    "letter*10"
   ]
  },
  {
   "cell_type": "code",
   "execution_count": 37,
   "id": "e44faf65",
   "metadata": {},
   "outputs": [
    {
     "data": {
      "text/plain": [
       "5"
      ]
     },
     "execution_count": 37,
     "metadata": {},
     "output_type": "execute_result"
    }
   ],
   "source": [
    "2+3"
   ]
  },
  {
   "cell_type": "code",
   "execution_count": 38,
   "id": "965ed49f",
   "metadata": {},
   "outputs": [
    {
     "data": {
      "text/plain": [
       "'23'"
      ]
     },
     "execution_count": 38,
     "metadata": {},
     "output_type": "execute_result"
    }
   ],
   "source": [
    "'2'+'3'"
   ]
  },
  {
   "cell_type": "code",
   "execution_count": 39,
   "id": "035e3417",
   "metadata": {},
   "outputs": [],
   "source": [
    "x = 'hello world'"
   ]
  },
  {
   "cell_type": "code",
   "execution_count": 40,
   "id": "a34ca721",
   "metadata": {},
   "outputs": [
    {
     "data": {
      "text/plain": [
       "'HELLO WORLD'"
      ]
     },
     "execution_count": 40,
     "metadata": {},
     "output_type": "execute_result"
    }
   ],
   "source": [
    "x.upper()"
   ]
  },
  {
   "cell_type": "code",
   "execution_count": 41,
   "id": "67057485",
   "metadata": {},
   "outputs": [
    {
     "data": {
      "text/plain": [
       "'hello world'"
      ]
     },
     "execution_count": 41,
     "metadata": {},
     "output_type": "execute_result"
    }
   ],
   "source": [
    "x.lower()"
   ]
  },
  {
   "cell_type": "code",
   "execution_count": 42,
   "id": "22144adb",
   "metadata": {},
   "outputs": [
    {
     "data": {
      "text/plain": [
       "['hello', 'world']"
      ]
     },
     "execution_count": 42,
     "metadata": {},
     "output_type": "execute_result"
    }
   ],
   "source": [
    "x.split()"
   ]
  },
  {
   "cell_type": "code",
   "execution_count": 43,
   "id": "a64f7741",
   "metadata": {},
   "outputs": [],
   "source": [
    "x = \"India is a democracy\""
   ]
  },
  {
   "cell_type": "code",
   "execution_count": 44,
   "id": "f138ff77",
   "metadata": {},
   "outputs": [
    {
     "data": {
      "text/plain": [
       "'India is a democracy'"
      ]
     },
     "execution_count": 44,
     "metadata": {},
     "output_type": "execute_result"
    }
   ],
   "source": [
    "x"
   ]
  },
  {
   "cell_type": "code",
   "execution_count": 45,
   "id": "1b0b4940",
   "metadata": {},
   "outputs": [
    {
     "data": {
      "text/plain": [
       "['India', 'is', 'a', 'democracy']"
      ]
     },
     "execution_count": 45,
     "metadata": {},
     "output_type": "execute_result"
    }
   ],
   "source": [
    "x.split()"
   ]
  },
  {
   "cell_type": "code",
   "execution_count": 46,
   "id": "0aacdadd",
   "metadata": {},
   "outputs": [
    {
     "data": {
      "text/plain": [
       "'India is a democracy'"
      ]
     },
     "execution_count": 46,
     "metadata": {},
     "output_type": "execute_result"
    }
   ],
   "source": [
    "x"
   ]
  },
  {
   "cell_type": "code",
   "execution_count": 48,
   "id": "e231f95a",
   "metadata": {},
   "outputs": [
    {
     "data": {
      "text/plain": [
       "['Indi', ' is ', ' democr', 'cy']"
      ]
     },
     "execution_count": 48,
     "metadata": {},
     "output_type": "execute_result"
    }
   ],
   "source": [
    "x.split('a')"
   ]
  },
  {
   "cell_type": "code",
   "execution_count": 1,
   "id": "3724812d",
   "metadata": {},
   "outputs": [],
   "source": [
    "fname = 'Kiran '"
   ]
  },
  {
   "cell_type": "code",
   "execution_count": 2,
   "id": "aa116e0f",
   "metadata": {},
   "outputs": [
    {
     "data": {
      "text/plain": [
       "'Kiran'"
      ]
     },
     "execution_count": 2,
     "metadata": {},
     "output_type": "execute_result"
    }
   ],
   "source": [
    "fname"
   ]
  },
  {
   "cell_type": "code",
   "execution_count": 7,
   "id": "a17e6b39",
   "metadata": {},
   "outputs": [],
   "source": [
    "lname = ' chikkappa'"
   ]
  },
  {
   "cell_type": "code",
   "execution_count": 4,
   "id": "ca9cbdfe",
   "metadata": {},
   "outputs": [
    {
     "data": {
      "text/plain": [
       "'chikkappa'"
      ]
     },
     "execution_count": 4,
     "metadata": {},
     "output_type": "execute_result"
    }
   ],
   "source": [
    "lname"
   ]
  },
  {
   "cell_type": "code",
   "execution_count": 5,
   "id": "d7413064",
   "metadata": {},
   "outputs": [],
   "source": [
    "fullname = fname + lname"
   ]
  },
  {
   "cell_type": "code",
   "execution_count": 8,
   "id": "80105929",
   "metadata": {},
   "outputs": [
    {
     "data": {
      "text/plain": [
       "'Kiranchikkappa'"
      ]
     },
     "execution_count": 8,
     "metadata": {},
     "output_type": "execute_result"
    }
   ],
   "source": [
    "fullname"
   ]
  },
  {
   "cell_type": "code",
   "execution_count": 9,
   "id": "f01f795c",
   "metadata": {},
   "outputs": [
    {
     "data": {
      "text/plain": [
       "'Kiranchikkappa'"
      ]
     },
     "execution_count": 9,
     "metadata": {},
     "output_type": "execute_result"
    }
   ],
   "source": [
    "fullname"
   ]
  },
  {
   "cell_type": "code",
   "execution_count": 10,
   "id": "80c457e9",
   "metadata": {},
   "outputs": [
    {
     "data": {
      "text/plain": [
       "'Kiranchikkappa'"
      ]
     },
     "execution_count": 10,
     "metadata": {},
     "output_type": "execute_result"
    }
   ],
   "source": [
    "fullname"
   ]
  },
  {
   "cell_type": "code",
   "execution_count": 15,
   "id": "7ca2ed1d",
   "metadata": {},
   "outputs": [],
   "source": [
    "heis = 'Sid'"
   ]
  },
  {
   "cell_type": "code",
   "execution_count": 12,
   "id": "51fcace6",
   "metadata": {},
   "outputs": [],
   "source": [
    "sheis = 'Jaanu'"
   ]
  },
  {
   "cell_type": "code",
   "execution_count": 13,
   "id": "18037b87",
   "metadata": {},
   "outputs": [],
   "source": [
    "couple = heis+sheis"
   ]
  },
  {
   "cell_type": "code",
   "execution_count": 14,
   "id": "c63a2e49",
   "metadata": {},
   "outputs": [
    {
     "data": {
      "text/plain": [
       "'Sid Jaanu'"
      ]
     },
     "execution_count": 14,
     "metadata": {},
     "output_type": "execute_result"
    }
   ],
   "source": [
    "couple"
   ]
  },
  {
   "cell_type": "code",
   "execution_count": 16,
   "id": "75bfb25f",
   "metadata": {},
   "outputs": [
    {
     "data": {
      "text/plain": [
       "'Sid Jaanu'"
      ]
     },
     "execution_count": 16,
     "metadata": {},
     "output_type": "execute_result"
    }
   ],
   "source": [
    "couple"
   ]
  },
  {
   "cell_type": "code",
   "execution_count": 17,
   "id": "82885242",
   "metadata": {},
   "outputs": [
    {
     "data": {
      "text/plain": [
       "'SID JAANU'"
      ]
     },
     "execution_count": 17,
     "metadata": {},
     "output_type": "execute_result"
    }
   ],
   "source": [
    "couple.upper()"
   ]
  },
  {
   "cell_type": "code",
   "execution_count": 18,
   "id": "44193679",
   "metadata": {},
   "outputs": [
    {
     "data": {
      "text/plain": [
       "'sid jaanu'"
      ]
     },
     "execution_count": 18,
     "metadata": {},
     "output_type": "execute_result"
    }
   ],
   "source": [
    "couple.lower()"
   ]
  },
  {
   "cell_type": "code",
   "execution_count": null,
   "id": "03c11bad",
   "metadata": {},
   "outputs": [],
   "source": []
  }
 ],
 "metadata": {
  "kernelspec": {
   "display_name": "Python 3 (ipykernel)",
   "language": "python",
   "name": "python3"
  },
  "language_info": {
   "codemirror_mode": {
    "name": "ipython",
    "version": 3
   },
   "file_extension": ".py",
   "mimetype": "text/x-python",
   "name": "python",
   "nbconvert_exporter": "python",
   "pygments_lexer": "ipython3",
   "version": "3.9.7"
  }
 },
 "nbformat": 4,
 "nbformat_minor": 5
}
