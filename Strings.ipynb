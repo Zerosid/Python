{
 "cells": [
  {
   "cell_type": "markdown",
   "id": "5e1cfa15",
   "metadata": {},
   "source": [
    "strings are sequence of characters, using either single quote or double quote in syntax"
   ]
  },
  {
   "cell_type": "code",
   "execution_count": 1,
   "id": "c98a9c47",
   "metadata": {},
   "outputs": [
    {
     "data": {
      "text/plain": [
       "'Sidram'"
      ]
     },
     "execution_count": 1,
     "metadata": {},
     "output_type": "execute_result"
    }
   ],
   "source": [
    "'Sidram'"
   ]
  },
  {
   "cell_type": "code",
   "execution_count": 2,
   "id": "3d11c3d5",
   "metadata": {},
   "outputs": [
    {
     "data": {
      "text/plain": [
       "'Sidram'"
      ]
     },
     "execution_count": 2,
     "metadata": {},
     "output_type": "execute_result"
    }
   ],
   "source": [
    "\"Sidram\""
   ]
  },
  {
   "cell_type": "code",
   "execution_count": 3,
   "id": "b159f720",
   "metadata": {},
   "outputs": [
    {
     "data": {
      "text/plain": [
       "'Sidram is badass'"
      ]
     },
     "execution_count": 3,
     "metadata": {},
     "output_type": "execute_result"
    }
   ],
   "source": [
    "\"Sidram is badass\""
   ]
  },
  {
   "cell_type": "code",
   "execution_count": 9,
   "id": "404697f8",
   "metadata": {},
   "outputs": [
    {
     "data": {
      "text/plain": [
       "\"Sid can't you do this?\""
      ]
     },
     "execution_count": 9,
     "metadata": {},
     "output_type": "execute_result"
    }
   ],
   "source": [
    "\"Sid can't you do this?\""
   ]
  },
  {
   "cell_type": "code",
   "execution_count": 10,
   "id": "724f680d",
   "metadata": {
    "scrolled": true
   },
   "outputs": [
    {
     "name": "stdout",
     "output_type": "stream",
     "text": [
      "Sidram\n"
     ]
    }
   ],
   "source": [
    "print(\"Sidram\")"
   ]
  },
  {
   "cell_type": "code",
   "execution_count": 11,
   "id": "cc889a6b",
   "metadata": {},
   "outputs": [
    {
     "name": "stdout",
     "output_type": "stream",
     "text": [
      "Sid\n"
     ]
    }
   ],
   "source": [
    "print('Sid')"
   ]
  },
  {
   "cell_type": "code",
   "execution_count": 12,
   "id": "aaa77053",
   "metadata": {},
   "outputs": [
    {
     "data": {
      "text/plain": [
       "'Sidram'"
      ]
     },
     "execution_count": 12,
     "metadata": {},
     "output_type": "execute_result"
    }
   ],
   "source": [
    "\"Sid\"\n",
    "\"Sidram\""
   ]
  },
  {
   "cell_type": "code",
   "execution_count": 16,
   "id": "eb4d61be",
   "metadata": {},
   "outputs": [
    {
     "name": "stdout",
     "output_type": "stream",
     "text": [
      "Sidda\n",
      "Sidram\n"
     ]
    }
   ],
   "source": [
    "print(\"Sidda\")\n",
    "print(\"Sidram\")"
   ]
  },
  {
   "cell_type": "code",
   "execution_count": 17,
   "id": "bb61146e",
   "metadata": {},
   "outputs": [
    {
     "name": "stdout",
     "output_type": "stream",
     "text": [
      "Sidram is \n",
      "badass\n"
     ]
    }
   ],
   "source": [
    "print(\"Sidram is \\nbadass\")"
   ]
  },
  {
   "cell_type": "code",
   "execution_count": 18,
   "id": "9cdbd263",
   "metadata": {},
   "outputs": [
    {
     "name": "stdout",
     "output_type": "stream",
     "text": [
      "Sidram is \n",
      " badass\n"
     ]
    }
   ],
   "source": [
    "print(\"Sidram is \\n badass\")"
   ]
  },
  {
   "cell_type": "code",
   "execution_count": 19,
   "id": "22453119",
   "metadata": {},
   "outputs": [
    {
     "name": "stdout",
     "output_type": "stream",
     "text": [
      "Sidram is \t badass\n"
     ]
    }
   ],
   "source": [
    "print(\"Sidram is \\t badass\")"
   ]
  },
  {
   "cell_type": "code",
   "execution_count": 20,
   "id": "cda43926",
   "metadata": {},
   "outputs": [
    {
     "name": "stdout",
     "output_type": "stream",
     "text": [
      "Sidram is \tbadass\n"
     ]
    }
   ],
   "source": [
    "print(\"Sidram is \\tbadass\")"
   ]
  },
  {
   "cell_type": "code",
   "execution_count": 22,
   "id": "dbe7e6a0",
   "metadata": {},
   "outputs": [
    {
     "data": {
      "text/plain": [
       "3"
      ]
     },
     "execution_count": 22,
     "metadata": {},
     "output_type": "execute_result"
    }
   ],
   "source": [
    "len(\"sid\")"
   ]
  },
  {
   "cell_type": "code",
   "execution_count": null,
   "id": "d03bb356",
   "metadata": {},
   "outputs": [],
   "source": []
  }
 ],
 "metadata": {
  "kernelspec": {
   "display_name": "Python 3 (ipykernel)",
   "language": "python",
   "name": "python3"
  },
  "language_info": {
   "codemirror_mode": {
    "name": "ipython",
    "version": 3
   },
   "file_extension": ".py",
   "mimetype": "text/x-python",
   "name": "python",
   "nbconvert_exporter": "python",
   "pygments_lexer": "ipython3",
   "version": "3.9.7"
  }
 },
 "nbformat": 4,
 "nbformat_minor": 5
}
