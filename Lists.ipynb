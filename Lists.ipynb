{
 "cells": [
  {
   "cell_type": "markdown",
   "id": "b1ac2b3b",
   "metadata": {},
   "source": [
    "Lists in python"
   ]
  },
  {
   "cell_type": "code",
   "execution_count": 1,
   "id": "5c454ec2",
   "metadata": {},
   "outputs": [],
   "source": [
    "my_list = [1,2,3]"
   ]
  },
  {
   "cell_type": "code",
   "execution_count": 2,
   "id": "8255df74",
   "metadata": {},
   "outputs": [],
   "source": [
    "my_list = ['string',112,30.2]"
   ]
  },
  {
   "cell_type": "code",
   "execution_count": 3,
   "id": "57578500",
   "metadata": {},
   "outputs": [
    {
     "data": {
      "text/plain": [
       "3"
      ]
     },
     "execution_count": 3,
     "metadata": {},
     "output_type": "execute_result"
    }
   ],
   "source": [
    "len(my_list)"
   ]
  },
  {
   "cell_type": "code",
   "execution_count": 4,
   "id": "001d3489",
   "metadata": {},
   "outputs": [
    {
     "data": {
      "text/plain": [
       "30.2"
      ]
     },
     "execution_count": 4,
     "metadata": {},
     "output_type": "execute_result"
    }
   ],
   "source": [
    "my_list[2]"
   ]
  },
  {
   "cell_type": "code",
   "execution_count": 5,
   "id": "e3ad56f5",
   "metadata": {},
   "outputs": [],
   "source": [
    "List = [5,4,3,2,1]"
   ]
  },
  {
   "cell_type": "code",
   "execution_count": 6,
   "id": "6760ef30",
   "metadata": {},
   "outputs": [],
   "source": [
    "List.reverse()"
   ]
  },
  {
   "cell_type": "code",
   "execution_count": 7,
   "id": "d907e622",
   "metadata": {},
   "outputs": [
    {
     "data": {
      "text/plain": [
       "[1, 2, 3, 4, 5]"
      ]
     },
     "execution_count": 7,
     "metadata": {},
     "output_type": "execute_result"
    }
   ],
   "source": [
    "List"
   ]
  },
  {
   "cell_type": "code",
   "execution_count": 8,
   "id": "448ba9fa",
   "metadata": {},
   "outputs": [],
   "source": [
    "List = [1,1,[1,2]]"
   ]
  },
  {
   "cell_type": "code",
   "execution_count": 9,
   "id": "6e0d895f",
   "metadata": {},
   "outputs": [
    {
     "data": {
      "text/plain": [
       "2"
      ]
     },
     "execution_count": 9,
     "metadata": {},
     "output_type": "execute_result"
    }
   ],
   "source": [
    "List[2][1]"
   ]
  },
  {
   "cell_type": "code",
   "execution_count": 10,
   "id": "cd7eaf1b",
   "metadata": {},
   "outputs": [
    {
     "data": {
      "text/plain": [
       "3"
      ]
     },
     "execution_count": 10,
     "metadata": {},
     "output_type": "execute_result"
    }
   ],
   "source": [
    "len(List)"
   ]
  },
  {
   "cell_type": "code",
   "execution_count": 13,
   "id": "12dfafbd",
   "metadata": {},
   "outputs": [],
   "source": [
    "mylist = ['ram', 10, 'Kiran', 10.2, 'Sid']"
   ]
  },
  {
   "cell_type": "code",
   "execution_count": 12,
   "id": "b386e0f3",
   "metadata": {},
   "outputs": [
    {
     "data": {
      "text/plain": [
       "'Kiran'"
      ]
     },
     "execution_count": 12,
     "metadata": {},
     "output_type": "execute_result"
    }
   ],
   "source": [
    "mylist[2]"
   ]
  },
  {
   "cell_type": "code",
   "execution_count": 14,
   "id": "936a07ee",
   "metadata": {},
   "outputs": [
    {
     "data": {
      "text/plain": [
       "['ram', 10, 'Kiran', 10.2, 'Sid', 1, 1, [1, 2]]"
      ]
     },
     "execution_count": 14,
     "metadata": {},
     "output_type": "execute_result"
    }
   ],
   "source": [
    "mylist + List"
   ]
  },
  {
   "cell_type": "code",
   "execution_count": 15,
   "id": "7ade52e8",
   "metadata": {},
   "outputs": [],
   "source": [
    "List1 = ['one', 'two', 'three', 'four']"
   ]
  },
  {
   "cell_type": "code",
   "execution_count": 16,
   "id": "f05d2e58",
   "metadata": {},
   "outputs": [],
   "source": [
    "List2 = ['five', 'six', 'seven', 'eight']"
   ]
  },
  {
   "cell_type": "code",
   "execution_count": 17,
   "id": "77ea8533",
   "metadata": {},
   "outputs": [
    {
     "data": {
      "text/plain": [
       "['one', 'two', 'three', 'four', 'five', 'six', 'seven', 'eight']"
      ]
     },
     "execution_count": 17,
     "metadata": {},
     "output_type": "execute_result"
    }
   ],
   "source": [
    "List1+List2"
   ]
  },
  {
   "cell_type": "code",
   "execution_count": 18,
   "id": "161b5194",
   "metadata": {},
   "outputs": [],
   "source": [
    "newList = List1+List2"
   ]
  },
  {
   "cell_type": "code",
   "execution_count": 19,
   "id": "6d4af079",
   "metadata": {},
   "outputs": [
    {
     "data": {
      "text/plain": [
       "['one', 'two', 'three', 'four', 'five', 'six', 'seven', 'eight']"
      ]
     },
     "execution_count": 19,
     "metadata": {},
     "output_type": "execute_result"
    }
   ],
   "source": [
    "newList"
   ]
  },
  {
   "cell_type": "code",
   "execution_count": 20,
   "id": "835c4bb3",
   "metadata": {},
   "outputs": [
    {
     "data": {
      "text/plain": [
       "'five'"
      ]
     },
     "execution_count": 20,
     "metadata": {},
     "output_type": "execute_result"
    }
   ],
   "source": [
    "newList[4]"
   ]
  },
  {
   "cell_type": "code",
   "execution_count": 21,
   "id": "957d1df3",
   "metadata": {},
   "outputs": [
    {
     "data": {
      "text/plain": [
       "['one', 'two', 'three', 'four', 'five', 'six', 'seven', 'eight']"
      ]
     },
     "execution_count": 21,
     "metadata": {},
     "output_type": "execute_result"
    }
   ],
   "source": [
    "newList[0:]"
   ]
  },
  {
   "cell_type": "code",
   "execution_count": 23,
   "id": "c731c779",
   "metadata": {},
   "outputs": [
    {
     "data": {
      "text/plain": [
       "['one', 'two', 'three', 'four', 'five', 'six', 'seven']"
      ]
     },
     "execution_count": 23,
     "metadata": {},
     "output_type": "execute_result"
    }
   ],
   "source": [
    "newList[0:7]"
   ]
  },
  {
   "cell_type": "code",
   "execution_count": 29,
   "id": "6d14ea5d",
   "metadata": {},
   "outputs": [],
   "source": [
    "newList[0] = 'ONE'"
   ]
  },
  {
   "cell_type": "code",
   "execution_count": 30,
   "id": "bf2bd915",
   "metadata": {},
   "outputs": [
    {
     "data": {
      "text/plain": [
       "['ONE', 'two', 'three', 'four', 'five', 'six', 'seven', 7]"
      ]
     },
     "execution_count": 30,
     "metadata": {},
     "output_type": "execute_result"
    }
   ],
   "source": [
    "newList"
   ]
  },
  {
   "cell_type": "code",
   "execution_count": 31,
   "id": "beab7ee9",
   "metadata": {},
   "outputs": [],
   "source": [
    "newList.append('nine')"
   ]
  },
  {
   "cell_type": "code",
   "execution_count": 32,
   "id": "f361d90d",
   "metadata": {},
   "outputs": [
    {
     "data": {
      "text/plain": [
       "['ONE', 'two', 'three', 'four', 'five', 'six', 'seven', 7, 'nine']"
      ]
     },
     "execution_count": 32,
     "metadata": {},
     "output_type": "execute_result"
    }
   ],
   "source": [
    "newList"
   ]
  },
  {
   "cell_type": "code",
   "execution_count": 33,
   "id": "0262e3d6",
   "metadata": {},
   "outputs": [
    {
     "data": {
      "text/plain": [
       "'nine'"
      ]
     },
     "execution_count": 33,
     "metadata": {},
     "output_type": "execute_result"
    }
   ],
   "source": [
    "newList.pop()"
   ]
  },
  {
   "cell_type": "code",
   "execution_count": 34,
   "id": "a11d0d04",
   "metadata": {},
   "outputs": [
    {
     "data": {
      "text/plain": [
       "['ONE', 'two', 'three', 'four', 'five', 'six', 'seven', 7]"
      ]
     },
     "execution_count": 34,
     "metadata": {},
     "output_type": "execute_result"
    }
   ],
   "source": [
    "newList"
   ]
  },
  {
   "cell_type": "code",
   "execution_count": 35,
   "id": "4eb9b288",
   "metadata": {},
   "outputs": [
    {
     "data": {
      "text/plain": [
       "7"
      ]
     },
     "execution_count": 35,
     "metadata": {},
     "output_type": "execute_result"
    }
   ],
   "source": [
    "newList.pop(7)"
   ]
  },
  {
   "cell_type": "code",
   "execution_count": 36,
   "id": "f8aa8cac",
   "metadata": {},
   "outputs": [
    {
     "data": {
      "text/plain": [
       "['ONE', 'two', 'three', 'four', 'five', 'six', 'seven']"
      ]
     },
     "execution_count": 36,
     "metadata": {},
     "output_type": "execute_result"
    }
   ],
   "source": [
    "newList"
   ]
  },
  {
   "cell_type": "code",
   "execution_count": 37,
   "id": "0bf690b8",
   "metadata": {},
   "outputs": [
    {
     "data": {
      "text/plain": [
       "'ONE'"
      ]
     },
     "execution_count": 37,
     "metadata": {},
     "output_type": "execute_result"
    }
   ],
   "source": [
    "newList.pop(0)"
   ]
  },
  {
   "cell_type": "code",
   "execution_count": 38,
   "id": "3cc5b88c",
   "metadata": {},
   "outputs": [
    {
     "data": {
      "text/plain": [
       "['two', 'three', 'four', 'five', 'six', 'seven']"
      ]
     },
     "execution_count": 38,
     "metadata": {},
     "output_type": "execute_result"
    }
   ],
   "source": [
    "newList"
   ]
  },
  {
   "cell_type": "code",
   "execution_count": 41,
   "id": "5b7226c7",
   "metadata": {},
   "outputs": [],
   "source": [
    "Alphalist = ['a', 'd', 'c', 'z','y', 'm', 'o']\n",
    "numlist = [1,2,10,20,30,5,9,7,97]"
   ]
  },
  {
   "cell_type": "code",
   "execution_count": 42,
   "id": "0b729388",
   "metadata": {},
   "outputs": [],
   "source": [
    "Alphalist.sort()"
   ]
  },
  {
   "cell_type": "code",
   "execution_count": 43,
   "id": "57f0817d",
   "metadata": {},
   "outputs": [
    {
     "data": {
      "text/plain": [
       "['a', 'c', 'd', 'm', 'o', 'y', 'z']"
      ]
     },
     "execution_count": 43,
     "metadata": {},
     "output_type": "execute_result"
    }
   ],
   "source": [
    "Alphalist"
   ]
  },
  {
   "cell_type": "code",
   "execution_count": 44,
   "id": "26e3d8d8",
   "metadata": {},
   "outputs": [],
   "source": [
    "numlist.sort()"
   ]
  },
  {
   "cell_type": "code",
   "execution_count": 45,
   "id": "7e33cd88",
   "metadata": {},
   "outputs": [
    {
     "data": {
      "text/plain": [
       "[1, 2, 5, 7, 9, 10, 20, 30, 97]"
      ]
     },
     "execution_count": 45,
     "metadata": {},
     "output_type": "execute_result"
    }
   ],
   "source": [
    "numlist"
   ]
  },
  {
   "cell_type": "code",
   "execution_count": 46,
   "id": "dfc34eae",
   "metadata": {},
   "outputs": [],
   "source": [
    "numlist.reverse()"
   ]
  },
  {
   "cell_type": "code",
   "execution_count": 47,
   "id": "dfec117b",
   "metadata": {},
   "outputs": [
    {
     "data": {
      "text/plain": [
       "[97, 30, 20, 10, 9, 7, 5, 2, 1]"
      ]
     },
     "execution_count": 47,
     "metadata": {},
     "output_type": "execute_result"
    }
   ],
   "source": [
    "numlist"
   ]
  },
  {
   "cell_type": "markdown",
   "id": "e4fd6549",
   "metadata": {},
   "source": [
    "append, pop, sort, reverse are important in lists"
   ]
  },
  {
   "cell_type": "markdown",
   "id": "5ee4647b",
   "metadata": {},
   "source": [
    "indexing slicing is well applicabe to lists"
   ]
  },
  {
   "cell_type": "code",
   "execution_count": null,
   "id": "163bd971",
   "metadata": {},
   "outputs": [],
   "source": []
  }
 ],
 "metadata": {
  "kernelspec": {
   "display_name": "Python 3 (ipykernel)",
   "language": "python",
   "name": "python3"
  },
  "language_info": {
   "codemirror_mode": {
    "name": "ipython",
    "version": 3
   },
   "file_extension": ".py",
   "mimetype": "text/x-python",
   "name": "python",
   "nbconvert_exporter": "python",
   "pygments_lexer": "ipython3",
   "version": "3.9.7"
  }
 },
 "nbformat": 4,
 "nbformat_minor": 5
}
