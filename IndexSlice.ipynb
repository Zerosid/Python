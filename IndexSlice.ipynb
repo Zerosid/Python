{
 "cells": [
  {
   "cell_type": "code",
   "execution_count": 1,
   "id": "9089d0ce",
   "metadata": {},
   "outputs": [],
   "source": [
    "mydata = \"Hello Sidram\""
   ]
  },
  {
   "cell_type": "code",
   "execution_count": 2,
   "id": "ec2ae535",
   "metadata": {},
   "outputs": [
    {
     "data": {
      "text/plain": [
       "'Hello Sidram'"
      ]
     },
     "execution_count": 2,
     "metadata": {},
     "output_type": "execute_result"
    }
   ],
   "source": [
    "mydata"
   ]
  },
  {
   "cell_type": "code",
   "execution_count": 3,
   "id": "484d0b11",
   "metadata": {},
   "outputs": [
    {
     "data": {
      "text/plain": [
       "'i'"
      ]
     },
     "execution_count": 3,
     "metadata": {},
     "output_type": "execute_result"
    }
   ],
   "source": [
    "mydata[7]"
   ]
  },
  {
   "cell_type": "code",
   "execution_count": 4,
   "id": "2d2bd71c",
   "metadata": {},
   "outputs": [
    {
     "data": {
      "text/plain": [
       "'H'"
      ]
     },
     "execution_count": 4,
     "metadata": {},
     "output_type": "execute_result"
    }
   ],
   "source": [
    "mydata[0]"
   ]
  },
  {
   "cell_type": "code",
   "execution_count": 5,
   "id": "e5f2ddb7",
   "metadata": {},
   "outputs": [
    {
     "data": {
      "text/plain": [
       "' '"
      ]
     },
     "execution_count": 5,
     "metadata": {},
     "output_type": "execute_result"
    }
   ],
   "source": [
    "mydata[-7]"
   ]
  },
  {
   "cell_type": "code",
   "execution_count": 6,
   "id": "99928ade",
   "metadata": {},
   "outputs": [
    {
     "data": {
      "text/plain": [
       "'m'"
      ]
     },
     "execution_count": 6,
     "metadata": {},
     "output_type": "execute_result"
    }
   ],
   "source": [
    "mydata[-1]"
   ]
  },
  {
   "cell_type": "code",
   "execution_count": 7,
   "id": "85de8b32",
   "metadata": {},
   "outputs": [
    {
     "data": {
      "text/plain": [
       "'Hello Sidram'"
      ]
     },
     "execution_count": 7,
     "metadata": {},
     "output_type": "execute_result"
    }
   ],
   "source": [
    "mydata"
   ]
  },
  {
   "cell_type": "code",
   "execution_count": 8,
   "id": "755f8d10",
   "metadata": {},
   "outputs": [
    {
     "data": {
      "text/plain": [
       "'lo Sidram'"
      ]
     },
     "execution_count": 8,
     "metadata": {},
     "output_type": "execute_result"
    }
   ],
   "source": [
    "mydata[3:]"
   ]
  },
  {
   "cell_type": "code",
   "execution_count": 9,
   "id": "1ea0fc5e",
   "metadata": {},
   "outputs": [
    {
     "data": {
      "text/plain": [
       "'Hel'"
      ]
     },
     "execution_count": 9,
     "metadata": {},
     "output_type": "execute_result"
    }
   ],
   "source": [
    "mydata[:3]"
   ]
  },
  {
   "cell_type": "code",
   "execution_count": 10,
   "id": "dcb58760",
   "metadata": {},
   "outputs": [
    {
     "data": {
      "text/plain": [
       "'Hello Sid'"
      ]
     },
     "execution_count": 10,
     "metadata": {},
     "output_type": "execute_result"
    }
   ],
   "source": [
    "mydata[:-3]"
   ]
  },
  {
   "cell_type": "code",
   "execution_count": 11,
   "id": "c80d08ec",
   "metadata": {},
   "outputs": [
    {
     "data": {
      "text/plain": [
       "'ram'"
      ]
     },
     "execution_count": 11,
     "metadata": {},
     "output_type": "execute_result"
    }
   ],
   "source": [
    "mydata[-3:]"
   ]
  },
  {
   "cell_type": "code",
   "execution_count": 12,
   "id": "ad9c3170",
   "metadata": {},
   "outputs": [
    {
     "data": {
      "text/plain": [
       "'Sid'"
      ]
     },
     "execution_count": 12,
     "metadata": {},
     "output_type": "execute_result"
    }
   ],
   "source": [
    "mydata[6:9]"
   ]
  },
  {
   "cell_type": "code",
   "execution_count": 17,
   "id": "d2b4a3ad",
   "metadata": {},
   "outputs": [
    {
     "data": {
      "text/plain": [
       "'Hello Sidram'"
      ]
     },
     "execution_count": 17,
     "metadata": {},
     "output_type": "execute_result"
    }
   ],
   "source": [
    "mydata[::]"
   ]
  },
  {
   "cell_type": "code",
   "execution_count": 18,
   "id": "70b419ba",
   "metadata": {},
   "outputs": [
    {
     "data": {
      "text/plain": [
       "'HlSr'"
      ]
     },
     "execution_count": 18,
     "metadata": {},
     "output_type": "execute_result"
    }
   ],
   "source": [
    "mydata[::3]"
   ]
  },
  {
   "cell_type": "code",
   "execution_count": 19,
   "id": "7c754e6b",
   "metadata": {},
   "outputs": [
    {
     "data": {
      "text/plain": [
       "'HloSda'"
      ]
     },
     "execution_count": 19,
     "metadata": {},
     "output_type": "execute_result"
    }
   ],
   "source": [
    "mydata[::2]"
   ]
  },
  {
   "cell_type": "code",
   "execution_count": 20,
   "id": "6612ed73",
   "metadata": {},
   "outputs": [
    {
     "data": {
      "text/plain": [
       "'mardiS olleH'"
      ]
     },
     "execution_count": 20,
     "metadata": {},
     "output_type": "execute_result"
    }
   ],
   "source": [
    "mydata[::-1]"
   ]
  },
  {
   "cell_type": "code",
   "execution_count": 21,
   "id": "cd9d930b",
   "metadata": {},
   "outputs": [],
   "source": [
    "mystring = \"hello world\""
   ]
  },
  {
   "cell_type": "code",
   "execution_count": 22,
   "id": "66f6bdd0",
   "metadata": {},
   "outputs": [
    {
     "data": {
      "text/plain": [
       "'hello world'"
      ]
     },
     "execution_count": 22,
     "metadata": {},
     "output_type": "execute_result"
    }
   ],
   "source": [
    "mystring"
   ]
  },
  {
   "cell_type": "code",
   "execution_count": 23,
   "id": "18cf1c2e",
   "metadata": {},
   "outputs": [
    {
     "data": {
      "text/plain": [
       "'r'"
      ]
     },
     "execution_count": 23,
     "metadata": {},
     "output_type": "execute_result"
    }
   ],
   "source": [
    "mystring[-3]"
   ]
  },
  {
   "cell_type": "code",
   "execution_count": null,
   "id": "8957519f",
   "metadata": {},
   "outputs": [],
   "source": []
  }
 ],
 "metadata": {
  "kernelspec": {
   "display_name": "Python 3 (ipykernel)",
   "language": "python",
   "name": "python3"
  },
  "language_info": {
   "codemirror_mode": {
    "name": "ipython",
    "version": 3
   },
   "file_extension": ".py",
   "mimetype": "text/x-python",
   "name": "python",
   "nbconvert_exporter": "python",
   "pygments_lexer": "ipython3",
   "version": "3.9.7"
  }
 },
 "nbformat": 4,
 "nbformat_minor": 5
}
